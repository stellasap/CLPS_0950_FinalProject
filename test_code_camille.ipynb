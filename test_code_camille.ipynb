{
 "cells": [
  {
   "cell_type": "code",
   "execution_count": null,
   "metadata": {},
   "outputs": [],
   "source": [
    "#am i connected?"
   ]
  },
  {
   "attachments": {},
   "cell_type": "markdown",
   "metadata": {},
   "source": [
    "kjxdhfkjhsd\n",
    "update: stella and i spent 1 hour today in class planning and downloading necessary things"
   ]
  },
  {
   "attachments": {},
   "cell_type": "markdown",
   "metadata": {},
   "source": [
    "update: stella spent 1 hr on trying to download pip and pip3. i spent 30 minutes watching the video Ivan sent, trying to download /install pip3 (so I can import gradio), and googling how to give permission to visual studio to use webcam (still haven't figure that out yet)"
   ]
  }
 ],
 "metadata": {
  "kernelspec": {
   "display_name": "base",
   "language": "python",
   "name": "python3"
  },
  "language_info": {
   "name": "python",
   "version": "3.9.12"
  },
  "orig_nbformat": 4
 },
 "nbformat": 4,
 "nbformat_minor": 2
}
